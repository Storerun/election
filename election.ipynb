{
 "cells": [
  {
   "cell_type": "markdown",
   "id": "91eea2d8",
   "metadata": {},
   "source": [
    "# Exploratory Data Analysis of US election"
   ]
  },
  {
   "cell_type": "code",
   "execution_count": 57,
   "id": "457d46d3",
   "metadata": {},
   "outputs": [],
   "source": [
    "import pandas as pd\n",
    "import matplotlib.pyplot as plt\n",
    "import seaborn as sns\n",
    "import numpy as np\n"
   ]
  },
  {
   "cell_type": "code",
   "execution_count": 58,
   "id": "429496a2",
   "metadata": {},
   "outputs": [
    {
     "data": {
      "text/html": [
       "<div>\n",
       "<style scoped>\n",
       "    .dataframe tbody tr th:only-of-type {\n",
       "        vertical-align: middle;\n",
       "    }\n",
       "\n",
       "    .dataframe tbody tr th {\n",
       "        vertical-align: top;\n",
       "    }\n",
       "\n",
       "    .dataframe thead th {\n",
       "        text-align: right;\n",
       "    }\n",
       "</style>\n",
       "<table border=\"1\" class=\"dataframe\">\n",
       "  <thead>\n",
       "    <tr style=\"text-align: right;\">\n",
       "      <th></th>\n",
       "      <th>Gender</th>\n",
       "      <th>Age</th>\n",
       "      <th>Income</th>\n",
       "      <th>Region</th>\n",
       "      <th>PartyID</th>\n",
       "      <th>Ideology</th>\n",
       "      <th>Vote Intention</th>\n",
       "      <th>Attention to election</th>\n",
       "    </tr>\n",
       "  </thead>\n",
       "  <tbody>\n",
       "    <tr>\n",
       "      <th>0</th>\n",
       "      <td>Male</td>\n",
       "      <td>45-65</td>\n",
       "      <td>Under $50K</td>\n",
       "      <td>West</td>\n",
       "      <td>Democratic</td>\n",
       "      <td>Liberal</td>\n",
       "      <td>Trump</td>\n",
       "      <td>A lot</td>\n",
       "    </tr>\n",
       "    <tr>\n",
       "      <th>1</th>\n",
       "      <td>Male</td>\n",
       "      <td>65+</td>\n",
       "      <td>$50-100K</td>\n",
       "      <td>West</td>\n",
       "      <td>Independent</td>\n",
       "      <td>Modern Liberal</td>\n",
       "      <td>Trump</td>\n",
       "      <td>A lot</td>\n",
       "    </tr>\n",
       "    <tr>\n",
       "      <th>2</th>\n",
       "      <td>Male</td>\n",
       "      <td>30-44</td>\n",
       "      <td>Under $50K</td>\n",
       "      <td>Midwest</td>\n",
       "      <td>Democratic</td>\n",
       "      <td>Conservative</td>\n",
       "      <td>Trump</td>\n",
       "      <td>A lot</td>\n",
       "    </tr>\n",
       "    <tr>\n",
       "      <th>3</th>\n",
       "      <td>Male</td>\n",
       "      <td>30-44</td>\n",
       "      <td>Under $50K</td>\n",
       "      <td>Northeast</td>\n",
       "      <td>Democratic</td>\n",
       "      <td>Liberal</td>\n",
       "      <td>Biden</td>\n",
       "      <td>A lot</td>\n",
       "    </tr>\n",
       "  </tbody>\n",
       "</table>\n",
       "</div>"
      ],
      "text/plain": [
       "  Gender    Age      Income     Region      PartyID        Ideology  \\\n",
       "0   Male  45-65  Under $50K       West   Democratic         Liberal   \n",
       "1   Male    65+    $50-100K       West  Independent  Modern Liberal   \n",
       "2   Male  30-44  Under $50K    Midwest   Democratic    Conservative   \n",
       "3   Male  30-44  Under $50K  Northeast   Democratic         Liberal   \n",
       "\n",
       "  Vote Intention Attention to election  \n",
       "0          Trump                 A lot  \n",
       "1          Trump                 A lot  \n",
       "2          Trump                 A lot  \n",
       "3          Biden                 A lot  "
      ]
     },
     "execution_count": 58,
     "metadata": {},
     "output_type": "execute_result"
    }
   ],
   "source": [
    "#import excel file as a dataframe\n",
    "data= pd.read_excel('improvised_data_train.xlsx')\n",
    "data.head(4)"
   ]
  },
  {
   "cell_type": "code",
   "execution_count": 59,
   "id": "f2f54fef",
   "metadata": {},
   "outputs": [
    {
     "name": "stdout",
     "output_type": "stream",
     "text": [
      "<class 'pandas.core.frame.DataFrame'>\n",
      "RangeIndex: 1199 entries, 0 to 1198\n",
      "Data columns (total 8 columns):\n",
      " #   Column                 Non-Null Count  Dtype \n",
      "---  ------                 --------------  ----- \n",
      " 0   Gender                 1199 non-null   object\n",
      " 1   Age                    1199 non-null   object\n",
      " 2   Income                 1199 non-null   object\n",
      " 3   Region                 1199 non-null   object\n",
      " 4   PartyID                1199 non-null   object\n",
      " 5   Ideology               1199 non-null   object\n",
      " 6   Vote Intention         1199 non-null   object\n",
      " 7   Attention to election  1199 non-null   object\n",
      "dtypes: object(8)\n",
      "memory usage: 75.1+ KB\n"
     ]
    }
   ],
   "source": [
    "data.info()"
   ]
  },
  {
   "cell_type": "code",
   "execution_count": 60,
   "id": "cbaf5eb2",
   "metadata": {},
   "outputs": [
    {
     "data": {
      "text/html": [
       "<div>\n",
       "<style scoped>\n",
       "    .dataframe tbody tr th:only-of-type {\n",
       "        vertical-align: middle;\n",
       "    }\n",
       "\n",
       "    .dataframe tbody tr th {\n",
       "        vertical-align: top;\n",
       "    }\n",
       "\n",
       "    .dataframe thead th {\n",
       "        text-align: right;\n",
       "    }\n",
       "</style>\n",
       "<table border=\"1\" class=\"dataframe\">\n",
       "  <thead>\n",
       "    <tr style=\"text-align: right;\">\n",
       "      <th></th>\n",
       "      <th>Gender</th>\n",
       "      <th>Age</th>\n",
       "      <th>Income</th>\n",
       "      <th>Region</th>\n",
       "      <th>PartyID</th>\n",
       "      <th>Ideology</th>\n",
       "      <th>Vote Intention</th>\n",
       "      <th>Attention to election</th>\n",
       "    </tr>\n",
       "  </thead>\n",
       "  <tbody>\n",
       "    <tr>\n",
       "      <th>count</th>\n",
       "      <td>1199</td>\n",
       "      <td>1199</td>\n",
       "      <td>1199</td>\n",
       "      <td>1199</td>\n",
       "      <td>1199</td>\n",
       "      <td>1199</td>\n",
       "      <td>1199</td>\n",
       "      <td>1199</td>\n",
       "    </tr>\n",
       "    <tr>\n",
       "      <th>unique</th>\n",
       "      <td>2</td>\n",
       "      <td>4</td>\n",
       "      <td>3</td>\n",
       "      <td>4</td>\n",
       "      <td>3</td>\n",
       "      <td>3</td>\n",
       "      <td>3</td>\n",
       "      <td>3</td>\n",
       "    </tr>\n",
       "    <tr>\n",
       "      <th>top</th>\n",
       "      <td>Male</td>\n",
       "      <td>45-65</td>\n",
       "      <td>Under $50K</td>\n",
       "      <td>South</td>\n",
       "      <td>Democratic</td>\n",
       "      <td>Conservative</td>\n",
       "      <td>Biden</td>\n",
       "      <td>A lot</td>\n",
       "    </tr>\n",
       "    <tr>\n",
       "      <th>freq</th>\n",
       "      <td>683</td>\n",
       "      <td>506</td>\n",
       "      <td>510</td>\n",
       "      <td>469</td>\n",
       "      <td>434</td>\n",
       "      <td>444</td>\n",
       "      <td>611</td>\n",
       "      <td>1018</td>\n",
       "    </tr>\n",
       "  </tbody>\n",
       "</table>\n",
       "</div>"
      ],
      "text/plain": [
       "       Gender    Age      Income Region     PartyID      Ideology  \\\n",
       "count    1199   1199        1199   1199        1199          1199   \n",
       "unique      2      4           3      4           3             3   \n",
       "top      Male  45-65  Under $50K  South  Democratic  Conservative   \n",
       "freq      683    506         510    469         434           444   \n",
       "\n",
       "       Vote Intention Attention to election  \n",
       "count            1199                  1199  \n",
       "unique              3                     3  \n",
       "top             Biden                 A lot  \n",
       "freq              611                  1018  "
      ]
     },
     "execution_count": 60,
     "metadata": {},
     "output_type": "execute_result"
    }
   ],
   "source": [
    "data.describe()"
   ]
  },
  {
   "cell_type": "code",
   "execution_count": 61,
   "id": "885b68f8",
   "metadata": {},
   "outputs": [
    {
     "data": {
      "text/plain": [
       "Gender                   0\n",
       "Age                      0\n",
       "Income                   0\n",
       "Region                   0\n",
       "PartyID                  0\n",
       "Ideology                 0\n",
       "Vote Intention           0\n",
       "Attention to election    0\n",
       "dtype: int64"
      ]
     },
     "execution_count": 61,
     "metadata": {},
     "output_type": "execute_result"
    }
   ],
   "source": [
    "data.isnull().sum()"
   ]
  },
  {
   "cell_type": "code",
   "execution_count": 62,
   "id": "883b548d",
   "metadata": {},
   "outputs": [
    {
     "data": {
      "text/plain": [
       "Index(['Gender', 'Age', 'Income', 'Region', 'PartyID', 'Ideology',\n",
       "       'Vote Intention', 'Attention to election'],\n",
       "      dtype='object')"
      ]
     },
     "execution_count": 62,
     "metadata": {},
     "output_type": "execute_result"
    }
   ],
   "source": [
    "data.columns"
   ]
  },
  {
   "cell_type": "code",
   "execution_count": 63,
   "id": "4c00deab",
   "metadata": {
    "scrolled": true
   },
   "outputs": [
    {
     "data": {
      "text/plain": [
       "Male      683\n",
       "Female    516\n",
       "Name: Gender, dtype: int64"
      ]
     },
     "execution_count": 63,
     "metadata": {},
     "output_type": "execute_result"
    }
   ],
   "source": [
    "data.Gender.value_counts()"
   ]
  },
  {
   "cell_type": "code",
   "execution_count": 64,
   "id": "0952a68d",
   "metadata": {
    "scrolled": true
   },
   "outputs": [
    {
     "data": {
      "text/plain": [
       "45-65    506\n",
       "65+      312\n",
       "30-44    242\n",
       "18-29    139\n",
       "Name: Age, dtype: int64"
      ]
     },
     "execution_count": 64,
     "metadata": {},
     "output_type": "execute_result"
    }
   ],
   "source": [
    "data.Age.value_counts()"
   ]
  },
  {
   "cell_type": "code",
   "execution_count": 65,
   "id": "9dd99e9c",
   "metadata": {
    "scrolled": true
   },
   "outputs": [
    {
     "data": {
      "text/plain": [
       "Under $50K       510\n",
       "$50-100K         414\n",
       "$100K or more    275\n",
       "Name: Income, dtype: int64"
      ]
     },
     "execution_count": 65,
     "metadata": {},
     "output_type": "execute_result"
    }
   ],
   "source": [
    "data.Income.value_counts()"
   ]
  },
  {
   "cell_type": "code",
   "execution_count": 66,
   "id": "24fc0f89",
   "metadata": {
    "scrolled": true
   },
   "outputs": [
    {
     "data": {
      "text/plain": [
       "Under $50K       510\n",
       "$50-100K         414\n",
       "$100K or more    275\n",
       "Name: Income, dtype: int64"
      ]
     },
     "execution_count": 66,
     "metadata": {},
     "output_type": "execute_result"
    }
   ],
   "source": [
    "data.Income.value_counts()"
   ]
  },
  {
   "cell_type": "code",
   "execution_count": 67,
   "id": "10cb1b0d",
   "metadata": {
    "scrolled": true
   },
   "outputs": [
    {
     "data": {
      "text/plain": [
       "Democratic     434\n",
       "Independent    431\n",
       "Republican     334\n",
       "Name: PartyID, dtype: int64"
      ]
     },
     "execution_count": 67,
     "metadata": {},
     "output_type": "execute_result"
    }
   ],
   "source": [
    "data.PartyID.value_counts()"
   ]
  },
  {
   "cell_type": "code",
   "execution_count": 68,
   "id": "25067d34",
   "metadata": {
    "scrolled": true
   },
   "outputs": [
    {
     "data": {
      "text/plain": [
       "Conservative      444\n",
       "Liberal           383\n",
       "Modern Liberal    372\n",
       "Name: Ideology, dtype: int64"
      ]
     },
     "execution_count": 68,
     "metadata": {},
     "output_type": "execute_result"
    }
   ],
   "source": [
    "data.Ideology.value_counts()"
   ]
  },
  {
   "cell_type": "code",
   "execution_count": 69,
   "id": "b6c17a97",
   "metadata": {
    "scrolled": true
   },
   "outputs": [
    {
     "data": {
      "text/plain": [
       "Biden    611\n",
       "Trump    514\n",
       "Other     74\n",
       "Name: Vote Intention, dtype: int64"
      ]
     },
     "execution_count": 69,
     "metadata": {},
     "output_type": "execute_result"
    }
   ],
   "source": [
    "data['Vote Intention'].value_counts()"
   ]
  },
  {
   "cell_type": "code",
   "execution_count": 70,
   "id": "1c3210c7",
   "metadata": {
    "scrolled": true
   },
   "outputs": [
    {
     "data": {
      "text/plain": [
       "A lot            1018\n",
       "Some              119\n",
       "Only a little      62\n",
       "Name: Attention to election, dtype: int64"
      ]
     },
     "execution_count": 70,
     "metadata": {},
     "output_type": "execute_result"
    }
   ],
   "source": [
    "data['Attention to election'].value_counts()"
   ]
  },
  {
   "cell_type": "markdown",
   "id": "1effcc75",
   "metadata": {},
   "source": [
    "# Relationship between gender and voting intention\n"
   ]
  },
  {
   "cell_type": "code",
   "execution_count": 95,
   "id": "cbb541f6",
   "metadata": {},
   "outputs": [
    {
     "name": "stdout",
     "output_type": "stream",
     "text": [
      "Gender  Vote Intention\n",
      "Female  Biden             265\n",
      "        Trump             220\n",
      "        Other              31\n",
      "Male    Biden             346\n",
      "        Trump             294\n",
      "        Other              43\n",
      "Name: Vote Intention, dtype: int64\n"
     ]
    },
    {
     "data": {
      "text/plain": [
       "<matplotlib.legend.Legend at 0x19d12a3c9a0>"
      ]
     },
     "execution_count": 95,
     "metadata": {},
     "output_type": "execute_result"
    },
    {
     "data": {
      "image/png": "[encoded data removed]",
      "text/plain": [
       "<Figure size 432x288 with 1 Axes>"
      ]
     },
     "metadata": {
      "needs_background": "light"
     },
     "output_type": "display_data"
    }
   ],
   "source": [
    "Gender_vote_intent = data.groupby('Gender')['Vote Intention'].value_counts()\n",
    "print(Gender_vote_intent)\n",
    "Gender_vote_intent.unstack().plot(kind='bar',legend =True,ylabel='vote intent',title='Relation of Gender and Vote Intention')\n",
    "plt.legend(loc='upper center')"
   ]
  },
  {
   "cell_type": "markdown",
   "id": "6536733a",
   "metadata": {},
   "source": []
  },
  {
   "cell_type": "code",
   "execution_count": 92,
   "id": "80c4ee79",
   "metadata": {},
   "outputs": [
    {
     "data": {
      "text/plain": [
       "Age    Gender\n",
       "18-29  Female     67\n",
       "       Male       72\n",
       "30-44  Female    107\n",
       "       Male      135\n",
       "45-65  Female    211\n",
       "       Male      295\n",
       "65+    Female    131\n",
       "       Male      181\n",
       "Name: Vote Intention, dtype: int64"
      ]
     },
     "execution_count": 92,
     "metadata": {},
     "output_type": "execute_result"
    }
   ],
   "source": [
    "Gender_vote_age = data.groupby(['Age','Gender']).count()['Vote Intention']\n",
    "Gender_vote_age"
   ]
  },
  {
   "cell_type": "code",
   "execution_count": 93,
   "id": "73970cb4",
   "metadata": {},
   "outputs": [
    {
     "data": {
      "text/plain": [
       "<AxesSubplot:xlabel='Age'>"
      ]
     },
     "execution_count": 93,
     "metadata": {},
     "output_type": "execute_result"
    },
    {
     "data": {
      "image/png": "[encoded data removed]",
      "text/plain": [
       "<Figure size 432x288 with 1 Axes>"
      ]
     },
     "metadata": {
      "needs_background": "light"
     },
     "output_type": "display_data"
    }
   ],
   "source": [
    "df2=pd.DataFrame(Gender_vote_age)\n",
    "df2.unstack().plot(kind='bar')"
   ]
  },
  {
   "cell_type": "code",
   "execution_count": null,
   "id": "ba8b2daf",
   "metadata": {},
   "outputs": [],
   "source": []
  },
  {
   "cell_type": "code",
   "execution_count": null,
   "id": "d87cd0dd",
   "metadata": {},
   "outputs": [],
   "source": []
  }
 ],
 "metadata": {
  "kernelspec": {
   "display_name": "Python 3",
   "language": "python",
   "name": "python3"
  },
  "language_info": {
   "codemirror_mode": {
    "name": "ipython",
    "version": 3
   },
   "file_extension": ".py",
   "mimetype": "text/x-python",
   "name": "python",
   "nbconvert_exporter": "python",
   "pygments_lexer": "ipython3",
   "version": "3.8.8"
  }
 },
 "nbformat": 4,
 "nbformat_minor": 5
}
